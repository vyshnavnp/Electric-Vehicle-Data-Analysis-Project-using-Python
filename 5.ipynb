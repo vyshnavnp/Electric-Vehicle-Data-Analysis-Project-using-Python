{
 "cells": [
  {
   "cell_type": "code",
   "execution_count": 2,
   "id": "71948ca7-b5c6-448d-86f2-456dfb79bc5e",
   "metadata": {},
   "outputs": [
    {
     "name": "stdout",
     "output_type": "stream",
     "text": [
      "T-statistic: 1.7024444538261416\n",
      "P-value: 0.11672692675082785\n",
      "Fail to reject the null hypothesis: No significant difference in average engine power.\n"
     ]
    }
   ],
   "source": [
    "import pandas as pd\n",
    "from scipy.stats import ttest_ind\n",
    "\n",
    "df = pd.read_excel(\"FEV-data-Excel.xlsx\")\n",
    "\n",
    "# Filter data for Tesla and Audi\n",
    "tesla_df = df[df['Make'] == 'Tesla']\n",
    "audi_df = df[df['Make'] == 'Audi']\n",
    "\n",
    "# Extract Engine power [KM] for both manufacturers\n",
    "tesla_power = tesla_df['Engine power [KM]'].dropna()\n",
    "audi_power = audi_df['Engine power [KM]'].dropna()\n",
    "\n",
    "# Perform the two-sample t-test\n",
    "t_stat, p_value = ttest_ind(tesla_power, audi_power)\n",
    "\n",
    "# Display results\n",
    "print(f\"T-statistic: {t_stat}\")\n",
    "print(f\"P-value: {p_value}\")\n",
    "\n",
    "# Interpretation\n",
    "alpha = 0.05  # Significance level\n",
    "if p_value < alpha:\n",
    "    print(\"Reject the null hypothesis: There is a significant difference in average engine power.\")\n",
    "else:\n",
    "    print(\"Fail to reject the null hypothesis: No significant difference in average engine power.\")"
   ]
  },
  {
   "cell_type": "code",
   "execution_count": null,
   "id": "2687050a-f313-4d55-81c0-f9dc5221929e",
   "metadata": {},
   "outputs": [],
   "source": [
    "#Analysis\n",
    "# Since the p-value (0.117) is greater than the significance level (α=0.05), we fail to reject the null hypothesis . \n",
    "# This means there is no statistically significant difference in the average engine power of Tesla and Audi vehicles.\n",
    "# Insights :\n",
    "# Tesla and Audi have comparable average engine power.\n",
    "# The slight difference in means is not statistically significant.\n",
    "# Recommendations :\n",
    "# Customers should evaluate other factors beyond engine power.\n",
    "# Manufacturers should innovate in areas like range, efficiency, and features to stand out."
   ]
  }
 ],
 "metadata": {
  "kernelspec": {
   "display_name": "Python [conda env:base] *",
   "language": "python",
   "name": "conda-base-py"
  },
  "language_info": {
   "codemirror_mode": {
    "name": "ipython",
    "version": 3
   },
   "file_extension": ".py",
   "mimetype": "text/x-python",
   "name": "python",
   "nbconvert_exporter": "python",
   "pygments_lexer": "ipython3",
   "version": "3.12.7"
  }
 },
 "nbformat": 4,
 "nbformat_minor": 5
}
