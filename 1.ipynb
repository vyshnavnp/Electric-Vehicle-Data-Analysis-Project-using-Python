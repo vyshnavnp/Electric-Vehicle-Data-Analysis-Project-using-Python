{
 "cells": [
  {
   "cell_type": "code",
   "execution_count": 27,
   "id": "c9aa7b1f-876e-49db-80c0-d2fd693301e4",
   "metadata": {},
   "outputs": [],
   "source": [
    "#Task 1a\n",
    "\n",
    "import pandas as pd\n",
    "df=pd.read_excel(\"FEV-data-Excel.xlsx\")\n"
   ]
  },
  {
   "cell_type": "code",
   "execution_count": 6,
   "id": "335a6124-38bf-4692-ad95-3a519b7b72c7",
   "metadata": {},
   "outputs": [
    {
     "name": "stdout",
     "output_type": "stream",
     "text": [
      "\n",
      "Filtered EVs that meet the criteria:\n",
      "                        Car full name           Make  \\\n",
      "0              Audi e-tron 55 quattro           Audi   \n",
      "8                             BMW iX3            BMW   \n",
      "15        Hyundai Kona electric 64kWh        Hyundai   \n",
      "18                   Kia e-Niro 64kWh            Kia   \n",
      "20                   Kia e-Soul 64kWh            Kia   \n",
      "22                  Mercedes-Benz EQC  Mercedes-Benz   \n",
      "39  Tesla Model 3 Standard Range Plus          Tesla   \n",
      "40           Tesla Model 3 Long Range          Tesla   \n",
      "41          Tesla Model 3 Performance          Tesla   \n",
      "47    Volkswagen ID.3 Pro Performance     Volkswagen   \n",
      "48              Volkswagen ID.3 Pro S     Volkswagen   \n",
      "49                Volkswagen ID.4 1st     Volkswagen   \n",
      "\n",
      "    Minimal price (gross) [PLN]  Range (WLTP) [km]  \n",
      "0                        345700                438  \n",
      "8                        282900                460  \n",
      "15                       178400                449  \n",
      "18                       167990                455  \n",
      "20                       160990                452  \n",
      "22                       334700                414  \n",
      "39                       195490                430  \n",
      "40                       235490                580  \n",
      "41                       260490                567  \n",
      "47                       155890                425  \n",
      "48                       179990                549  \n",
      "49                       202390                500  \n"
     ]
    }
   ],
   "source": [
    "budget=350000\n",
    "min_range=400\n",
    "\n",
    "filtered_evs = df[(df['Minimal price (gross) [PLN]'] <= budget) & \n",
    "                   (df['Range (WLTP) [km]'] >= min_range)]\n",
    "\n",
    "print(\"\\nFiltered EVs that meet the criteria:\")\n",
    "print(filtered_evs[['Car full name', 'Make', 'Minimal price (gross) [PLN]', 'Range (WLTP) [km]']])"
   ]
  },
  {
   "cell_type": "code",
   "execution_count": null,
   "id": "4a677ea7-f9e2-410d-8ff3-4a407a2d6732",
   "metadata": {},
   "outputs": [],
   "source": [
    "#ANALYSIS\n",
    "# The filter criteria of a budget of 350,000 PLN and a minimum range of 400 km helped identify a subset of EVs that meet the customer's financial and performance requirements.\n",
    "# These results provide a curated list, simplifying the customer's decision-making process for long-range EVs within their budget.\n",
    "# There are 13 possible options under this category\n"
   ]
  },
  {
   "cell_type": "code",
   "execution_count": 25,
   "id": "29a30f8f-c5a9-4975-b363-fe0e7b3c498b",
   "metadata": {},
   "outputs": [
    {
     "name": "stdout",
     "output_type": "stream",
     "text": [
      "\n",
      "Grouped EVs by manufacturer:\n",
      "\n",
      "Manufacturer: Audi\n",
      "            Car full name  Minimal price (gross) [PLN]  Range (WLTP) [km]\n",
      "0  Audi e-tron 55 quattro                       345700                438\n",
      "\n",
      "Manufacturer: BMW\n",
      "  Car full name  Minimal price (gross) [PLN]  Range (WLTP) [km]\n",
      "8       BMW iX3                       282900                460\n",
      "\n",
      "Manufacturer: Hyundai\n",
      "                  Car full name  Minimal price (gross) [PLN]  \\\n",
      "15  Hyundai Kona electric 64kWh                       178400   \n",
      "\n",
      "    Range (WLTP) [km]  \n",
      "15                449  \n",
      "\n",
      "Manufacturer: Kia\n",
      "       Car full name  Minimal price (gross) [PLN]  Range (WLTP) [km]\n",
      "18  Kia e-Niro 64kWh                       167990                455\n",
      "20  Kia e-Soul 64kWh                       160990                452\n",
      "\n",
      "Manufacturer: Mercedes-Benz\n",
      "        Car full name  Minimal price (gross) [PLN]  Range (WLTP) [km]\n",
      "22  Mercedes-Benz EQC                       334700                414\n",
      "\n",
      "Manufacturer: Tesla\n",
      "                        Car full name  Minimal price (gross) [PLN]  \\\n",
      "39  Tesla Model 3 Standard Range Plus                       195490   \n",
      "40           Tesla Model 3 Long Range                       235490   \n",
      "41          Tesla Model 3 Performance                       260490   \n",
      "\n",
      "    Range (WLTP) [km]  \n",
      "39                430  \n",
      "40                580  \n",
      "41                567  \n",
      "\n",
      "Manufacturer: Volkswagen\n",
      "                      Car full name  Minimal price (gross) [PLN]  \\\n",
      "47  Volkswagen ID.3 Pro Performance                       155890   \n",
      "48            Volkswagen ID.3 Pro S                       179990   \n",
      "49              Volkswagen ID.4 1st                       202390   \n",
      "\n",
      "    Range (WLTP) [km]  \n",
      "47                425  \n",
      "48                549  \n",
      "49                500  \n"
     ]
    }
   ],
   "source": [
    "#Task 1b\n",
    "\n",
    "grouped_by_make = filtered_evs.groupby('Make')\n",
    "\n",
    "print(\"\\nGrouped EVs by manufacturer:\")\n",
    "for make, group in grouped_by_make:\n",
    "    print(f\"\\nManufacturer: {make}\")\n",
    "    print(group[['Car full name', 'Minimal price (gross) [PLN]', 'Range (WLTP) [km]']])"
   ]
  },
  {
   "cell_type": "code",
   "execution_count": null,
   "id": "7e874830-657d-4943-ab57-4ae3467e6ffa",
   "metadata": {},
   "outputs": [],
   "source": [
    "#Analysis\n",
    "# Grouping by manufacturer revealed which brands offer the most options under the customer's budget and range criteria.\n",
    "# This step can highlight dominant players in the EV market segment and help the customer choose based on brand preference."
   ]
  },
  {
   "cell_type": "code",
   "execution_count": 29,
   "id": "9be632f6-077a-49f6-ac25-fb2e1b4aac3c",
   "metadata": {},
   "outputs": [
    {
     "name": "stdout",
     "output_type": "stream",
     "text": [
      "\n",
      "Average Battery Capacity for each Manufacturer:\n",
      "            Make  Battery capacity [kWh]\n",
      "0           Audi               95.000000\n",
      "1            BMW               80.000000\n",
      "2        Hyundai               64.000000\n",
      "3            Kia               64.000000\n",
      "4  Mercedes-Benz               80.000000\n",
      "5          Tesla               68.000000\n",
      "6     Volkswagen               70.666667\n"
     ]
    }
   ],
   "source": [
    "#Task 1c\n",
    "\n",
    "average_battery_capacity = grouped_by_make['Battery capacity [kWh]'].mean().reset_index()\n",
    "print(\"\\nAverage Battery Capacity for each Manufacturer:\")\n",
    "print(average_battery_capacity)"
   ]
  },
  {
   "cell_type": "code",
   "execution_count": null,
   "id": "901968ff-b54c-4ac1-81f6-159dc024fa94",
   "metadata": {},
   "outputs": [],
   "source": [
    "#Analysis\n",
    "# Calculating the average battery capacity for each manufacturer provided insights into which brands invest in larger battery capacities.\n",
    "# This is crucial since a larger battery often correlates with a longer driving range and better vehicle performance.\n",
    "# We found out tht the maker Audi provides the best battery life."
   ]
  },
  {
   "cell_type": "code",
   "execution_count": null,
   "id": "4e4b463e-d18a-4919-b225-38fd09493225",
   "metadata": {},
   "outputs": [],
   "source": []
  }
 ],
 "metadata": {
  "kernelspec": {
   "display_name": "Python [conda env:base] *",
   "language": "python",
   "name": "conda-base-py"
  },
  "language_info": {
   "codemirror_mode": {
    "name": "ipython",
    "version": 3
   },
   "file_extension": ".py",
   "mimetype": "text/x-python",
   "name": "python",
   "nbconvert_exporter": "python",
   "pygments_lexer": "ipython3",
   "version": "3.12.7"
  }
 },
 "nbformat": 4,
 "nbformat_minor": 5
}
