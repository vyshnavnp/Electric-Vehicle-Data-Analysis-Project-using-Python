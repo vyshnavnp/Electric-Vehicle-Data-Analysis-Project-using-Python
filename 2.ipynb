{
 "cells": [
  {
   "cell_type": "code",
   "execution_count": 26,
   "id": "01817516-c98c-4828-a588-1e38cb6a7f85",
   "metadata": {},
   "outputs": [],
   "source": [
    "#Task 2\n",
    "\n",
    "import pandas as pd\n",
    "import numpy as np\n",
    "df=pd.read_excel(\"FEV-data-Excel.xlsx\")"
   ]
  },
  {
   "cell_type": "code",
   "execution_count": 44,
   "id": "1a5cf80f-b6a3-484a-a129-bd3fb5c3175e",
   "metadata": {},
   "outputs": [
    {
     "name": "stdout",
     "output_type": "stream",
     "text": [
      "Outliers using the mean-based method:\n",
      "Empty DataFrame\n",
      "Columns: [Car full name, Make, Model, mean - Energy consumption [kWh/100 km]]\n",
      "Index: []\n"
     ]
    }
   ],
   "source": [
    "# Filter out rows where 'mean - Energy consumption [kWh/100 km]' is null\n",
    "df = df.dropna(subset=['mean - Energy consumption [kWh/100 km]'])\n",
    "\n",
    "# Calculate mean and standard deviation\n",
    "mean_energy = df['mean - Energy consumption [kWh/100 km]'].mean()\n",
    "std_energy = df['mean - Energy consumption [kWh/100 km]'].std()\n",
    "\n",
    "# Define outlier bounds (using k = 3)\n",
    "k = 3\n",
    "lower_bound_mean = mean_energy - k * std_energy\n",
    "upper_bound_mean = mean_energy + k * std_energy\n",
    "\n",
    "# Identify outliers\n",
    "outliers_mean = df[(df['mean - Energy consumption [kWh/100 km]'] < lower_bound_mean) | \n",
    "                   (df['mean - Energy consumption [kWh/100 km]'] > upper_bound_mean)]\n",
    "\n",
    "# Display outliers\n",
    "print(\"Outliers using the mean-based method:\")\n",
    "print(outliers_mean[['Car full name', 'Make', 'Model', 'mean - Energy consumption [kWh/100 km]']])"
   ]
  },
  {
   "cell_type": "code",
   "execution_count": null,
   "id": "9aec1d69-a86a-46a6-8717-2c250935ec3d",
   "metadata": {},
   "outputs": [],
   "source": [
    "#Analysis\n",
    "# Based on both statistical methods, it can be concluded that the dataset does not contain any outliers in the mean - Energy consumption [kWh/100 km] column. \n",
    "# This suggests that the energy consumption values are relatively consistent across the different electric vehicle models included in the dataset"
   ]
  }
 ],
 "metadata": {
  "kernelspec": {
   "display_name": "Python [conda env:base] *",
   "language": "python",
   "name": "conda-base-py"
  },
  "language_info": {
   "codemirror_mode": {
    "name": "ipython",
    "version": 3
   },
   "file_extension": ".py",
   "mimetype": "text/x-python",
   "name": "python",
   "nbconvert_exporter": "python",
   "pygments_lexer": "ipython3",
   "version": "3.12.7"
  }
 },
 "nbformat": 4,
 "nbformat_minor": 5
}
