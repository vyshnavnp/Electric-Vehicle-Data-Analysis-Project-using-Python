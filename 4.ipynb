{
 "cells": [
  {
   "cell_type": "code",
   "execution_count": 17,
   "id": "30f32d87-86d1-4a61-bb8f-5c62a471a886",
   "metadata": {},
   "outputs": [
    {
     "name": "stdin",
     "output_type": "stream",
     "text": [
      "Enter your maximum budget (in PLN):  300000\n",
      "Enter your desired range (in km):  350\n",
      "Enter your minimum battery capacity (in kWh):  75\n"
     ]
    },
    {
     "name": "stdout",
     "output_type": "stream",
     "text": [
      "\n",
      "Top 3 Recommended EVs:\n",
      "           Car full name  Minimal price (gross) [PLN]  Range (WLTP) [km]  Battery capacity [kWh]\n",
      "   Volkswagen ID.3 Pro S                       179990                549                    77.0\n",
      "     Volkswagen ID.4 1st                       202390                500                    77.0\n",
      "Tesla Model 3 Long Range                       235490                580                    75.0\n"
     ]
    }
   ],
   "source": [
    "import pandas as pd\n",
    "\n",
    "class EVRecommender:\n",
    "   # A class to recommend electric vehicles (EVs) based on user criteria: budget, desired range, and minimum battery capacity.\n",
    "   \n",
    "    \n",
    "    def __init__(self, data_path):\n",
    "        self.df = pd.read_excel(data_path)\n",
    "        # Drop rows with missing values in critical columns\n",
    "        self.df = self.df.dropna(subset=[\n",
    "            'Minimal price (gross) [PLN]',\n",
    "            'Range (WLTP) [km]',\n",
    "            'Battery capacity [kWh]'\n",
    "        ])\n",
    "    \n",
    "    def recommend_evs(self, budget, desired_range, min_battery_capacity):\n",
    "\n",
    "        # Filter EVs that meet the criteria\n",
    "        filtered = self.df[\n",
    "            (self.df['Minimal price (gross) [PLN]'] <= budget) &\n",
    "            (self.df['Range (WLTP) [km]'] >= desired_range) &\n",
    "            (self.df['Battery capacity [kWh]'] >= min_battery_capacity)\n",
    "        ]\n",
    "        \n",
    "        # Sort by price ascending to prioritize affordability\n",
    "        filtered_sorted = filtered.sort_values(by='Minimal price (gross) [PLN]')\n",
    "        \n",
    "        # Return top 3 EVs\n",
    "        return filtered_sorted.head(3)[[\n",
    "            'Car full name',\n",
    "            'Minimal price (gross) [PLN]',\n",
    "            'Range (WLTP) [km]',\n",
    "            'Battery capacity [kWh]'\n",
    "        ]]\n",
    "\n",
    "\n",
    "if __name__ == \"__main__\":\n",
    "    # Path to the dataset\n",
    "    file_path = \"FEV-data-Excel.xlsx\"\n",
    "    \n",
    "    # Initialize the recommender\n",
    "    recommender = EVRecommender(file_path)\n",
    "    \n",
    "    # Collect user inputs\n",
    "    try:\n",
    "        budget = float(input(\"Enter your maximum budget (in PLN): \"))\n",
    "        desired_range = int(input(\"Enter your desired range (in km): \"))\n",
    "        min_battery_capacity = int(input(\"Enter your minimum battery capacity (in kWh): \"))\n",
    "    except ValueError:\n",
    "        print(\"Invalid input. Please enter numeric values.\")\n",
    "        exit()\n",
    "    \n",
    "    # Get recommendations\n",
    "    recommendations = recommender.recommend_evs(budget, desired_range, min_battery_capacity)\n",
    "    \n",
    "    # Display results\n",
    "    print(\"\\nTop 3 Recommended EVs:\")\n",
    "    if isinstance(recommendations, str): \n",
    "        print(recommendations)\n",
    "    else:\n",
    "        print(recommendations.to_string(index=False))"
   ]
  },
  {
   "cell_type": "code",
   "execution_count": null,
   "id": "b230df50-20e9-48a8-96c0-bd3e70a20039",
   "metadata": {},
   "outputs": [],
   "source": [
    "#Analysis\n",
    "\n",
    "# The program effectively filters and recommends EVs based on the user's preferences. \n",
    "# The top three recommendations provide a mix of affordability, range, and battery capacity, ensuring that the user can make an informed decision.\n",
    "# Based on the user inputs:\n",
    "\n",
    "# Budget : 300,000 PLN\n",
    "# Desired Range : 350 km\n",
    "# Minimum Battery Capacity : 75 kWh\n",
    "# The Volkswagen ID.3 Pro S is the most affordable option among the recommendations, priced at 179,990 PLN.\n",
    "# The Tesla Model 3 Long Range is the most expensive but still within the budget."
   ]
  }
 ],
 "metadata": {
  "kernelspec": {
   "display_name": "Python [conda env:base] *",
   "language": "python",
   "name": "conda-base-py"
  },
  "language_info": {
   "codemirror_mode": {
    "name": "ipython",
    "version": 3
   },
   "file_extension": ".py",
   "mimetype": "text/x-python",
   "name": "python",
   "nbconvert_exporter": "python",
   "pygments_lexer": "ipython3",
   "version": "3.12.7"
  }
 },
 "nbformat": 4,
 "nbformat_minor": 5
}
