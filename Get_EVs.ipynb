{
 "cells": [
  {
   "cell_type": "code",
   "execution_count": 1,
   "id": "bb26d768-9579-4b73-a704-ee6dc8f13ac9",
   "metadata": {},
   "outputs": [],
   "source": [
    "from EV_Recommender_CLASS import EVRecommender"
   ]
  },
  {
   "cell_type": "code",
   "execution_count": 7,
   "id": "28ff4813-501f-4c5c-90df-39b2fbfa38af",
   "metadata": {},
   "outputs": [],
   "source": [
    "filepath = \"FEV-data-Excel.xlsx\"\n",
    "recommender = EVRecommender(filepath)"
   ]
  },
  {
   "cell_type": "code",
   "execution_count": 11,
   "id": "16e99452-5d86-4937-ad91-f5b517f1cf5b",
   "metadata": {},
   "outputs": [
    {
     "name": "stdin",
     "output_type": "stream",
     "text": [
      "Enter your budget (in PLN):  300000\n",
      "Enter desired minimum range (in km):  350\n",
      "Enter minimum battery capacity (in kWh):  75\n"
     ]
    },
    {
     "name": "stdout",
     "output_type": "stream",
     "text": [
      "\n",
      "Recommended EVs:\n",
      "            Car full name  Minimal price (gross) [PLN]  Range (WLTP) [km]  Battery capacity [kWh]\n",
      "    Volkswagen ID.3 Pro S                       179990                549                    77.0\n",
      "      Volkswagen ID.4 1st                       202390                500                    77.0\n",
      " Tesla Model 3 Long Range                       235490                580                    75.0\n",
      "Tesla Model 3 Performance                       260490                567                    75.0\n",
      "                  BMW iX3                       282900                460                    80.0\n"
     ]
    }
   ],
   "source": [
    "recommender.recommend_from_user_input()"
   ]
  },
  {
   "cell_type": "code",
   "execution_count": null,
   "id": "e6f471b1-bac0-4d0f-9ce1-5162dc545fc3",
   "metadata": {},
   "outputs": [],
   "source": []
  }
 ],
 "metadata": {
  "kernelspec": {
   "display_name": "Python [conda env:base] *",
   "language": "python",
   "name": "conda-base-py"
  },
  "language_info": {
   "codemirror_mode": {
    "name": "ipython",
    "version": 3
   },
   "file_extension": ".py",
   "mimetype": "text/x-python",
   "name": "python",
   "nbconvert_exporter": "python",
   "pygments_lexer": "ipython3",
   "version": "3.12.3"
  }
 },
 "nbformat": 4,
 "nbformat_minor": 5
}
